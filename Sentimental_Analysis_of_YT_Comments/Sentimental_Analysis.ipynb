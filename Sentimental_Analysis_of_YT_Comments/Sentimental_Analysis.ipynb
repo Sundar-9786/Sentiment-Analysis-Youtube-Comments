{
 "cells": [
  {
   "cell_type": "code",
   "execution_count": null,
   "id": "3c8113f0-8509-4c2a-95b9-bd844d88e1c6",
   "metadata": {},
   "outputs": [],
   "source": []
  },
  {
   "cell_type": "code",
   "execution_count": null,
   "id": "adfcd046-9db4-4e5c-9c17-bdc891d3a510",
   "metadata": {},
   "outputs": [],
   "source": []
  },
  {
   "cell_type": "code",
   "execution_count": 2,
   "id": "9e285d58-38f6-45cb-9200-27f0019082f3",
   "metadata": {},
   "outputs": [
    {
     "name": "stderr",
     "output_type": "stream",
     "text": [
      "[nltk_data] Downloading package punkt to C:\\nltk_data...\n",
      "[nltk_data]   Package punkt is already up-to-date!\n",
      "[nltk_data] Downloading package vader_lexicon to C:\\nltk_data...\n",
      "[nltk_data]   Package vader_lexicon is already up-to-date!\n",
      "[nltk_data] Downloading package stopwords to C:\\nltk_data...\n",
      "[nltk_data]   Package stopwords is already up-to-date!\n"
     ]
    },
    {
     "name": "stdout",
     "output_type": "stream",
     "text": [
      "Fetching comments...\n",
      "Preprocessing comments...\n"
     ]
    },
    {
     "name": "stderr",
     "output_type": "stream",
     "text": [
      "No model was supplied, defaulted to distilbert/distilbert-base-uncased-finetuned-sst-2-english and revision 714eb0f (https://huggingface.co/distilbert/distilbert-base-uncased-finetuned-sst-2-english).\n",
      "Using a pipeline without specifying a model name and revision in production is not recommended.\n"
     ]
    },
    {
     "name": "stdout",
     "output_type": "stream",
     "text": [
      "Initializing sentiment analysis models...\n"
     ]
    },
    {
     "name": "stderr",
     "output_type": "stream",
     "text": [
      "Device set to use cpu\n"
     ]
    },
    {
     "name": "stdout",
     "output_type": "stream",
     "text": [
      "Analyzing sentiment with VADER...\n",
      "Analyzing sentiment with Hugging Face...\n",
      "Saving results to CSV...\n",
      "Analysis saved to savukku.csv\n"
     ]
    }
   ],
   "source": [
    "import os\n",
    "import re\n",
    "import pandas as pd\n",
    "from googleapiclient.discovery import build\n",
    "from nltk.tokenize import word_tokenize\n",
    "from nltk.corpus import stopwords\n",
    "from nltk.sentiment.vader import SentimentIntensityAnalyzer\n",
    "from transformers import pipeline\n",
    "import nltk\n",
    "\n",
    "# Ensure NLTK resources are downloaded\n",
    "nltk.download('punkt')\n",
    "nltk.download('vader_lexicon')\n",
    "nltk.download('stopwords')\n",
    "\n",
    "# Function to fetch YouTube comments\n",
    "def fetch_youtube_comments(video_id, api_key, max_comments=10000):\n",
    "    youtube = build('youtube', 'v3', developerKey=api_key)\n",
    "    comments = []\n",
    "    next_page_token = None\n",
    "\n",
    "    while len(comments) < max_comments:\n",
    "        request = youtube.commentThreads().list(\n",
    "            part=\"snippet\",\n",
    "            videoId=video_id,\n",
    "            maxResults=100,\n",
    "            pageToken=next_page_token\n",
    "        )\n",
    "        response = request.execute()\n",
    "        for item in response.get('items', []):\n",
    "            comment = item['snippet']['topLevelComment']['snippet']['textDisplay']\n",
    "            comments.append(comment)\n",
    "        next_page_token = response.get('nextPageToken')\n",
    "        if not next_page_token:\n",
    "            break\n",
    "\n",
    "    return comments[:max_comments]\n",
    "\n",
    "# Function to preprocess text\n",
    "def preprocess_text(text):\n",
    "    text = re.sub(r'[^a-zA-Z\\s]', '', text)  # Remove non-alphabetic characters\n",
    "    text = text.lower()  # Convert to lowercase\n",
    "    tokens = word_tokenize(text)  # Tokenize the text\n",
    "    tokens = [word for word in tokens if word not in stopwords.words('english')]  # Remove stopwords\n",
    "    return \" \".join(tokens)\n",
    "\n",
    "# Function to analyze sentiment using VADER\n",
    "def analyze_vader_sentiment(comment):\n",
    "    sid = SentimentIntensityAnalyzer()\n",
    "    scores = sid.polarity_scores(comment)\n",
    "    if scores['compound'] > 0:\n",
    "        return 'Positive'\n",
    "    elif scores['compound'] < 0:\n",
    "        return 'Negative'\n",
    "    else:\n",
    "        return 'Neutral'\n",
    "\n",
    "# Function to analyze sentiment using Hugging Face\n",
    "def analyze_huggingface_sentiment_with_neutral(comment, huggingface_pipeline, neutral_threshold=0.5):\n",
    "    tokens = huggingface_pipeline.tokenizer.tokenize(comment)\n",
    "    max_length = huggingface_pipeline.tokenizer.model_max_length  # Typically 512\n",
    "    chunks = [tokens[i:i + max_length] for i in range(0, len(tokens), max_length)]\n",
    "    \n",
    "    sentiments = []\n",
    "    for chunk in chunks:\n",
    "        chunk_text = huggingface_pipeline.tokenizer.convert_tokens_to_string(chunk)\n",
    "        result = huggingface_pipeline(chunk_text)[0]  # Result is a list with a dict for each label\n",
    "        label = result['label']\n",
    "        score = result['score']\n",
    "        \n",
    "        if score < neutral_threshold:\n",
    "            sentiments.append('Neutral')\n",
    "        else:\n",
    "            sentiments.append(label)\n",
    "    \n",
    "    # Majority voting or averaging to handle multiple chunks\n",
    "    positive_count = sentiments.count('POSITIVE')\n",
    "    negative_count = sentiments.count('NEGATIVE')\n",
    "    neutral_count = sentiments.count('Neutral')\n",
    "    \n",
    "    if neutral_count >= max(positive_count, negative_count):\n",
    "        return 'Neutral'\n",
    "    return 'POSITIVE' if positive_count > negative_count else 'NEGATIVE'\n",
    "\n",
    "\n",
    "# Main function\n",
    "def main():\n",
    "    # Replace with your YouTube API key and video ID\n",
    "    api_key = \"API_KEY\"  \n",
    "    video_id = \"VIDEO_ID\"                                              #https://youtu.be/NsfMPTiIuvY?si=R3g-OTyftSABbqfo\n",
    "                                                                       #https://youtu.be/oYj-PkAKLbA?si=xTfF6r0lc51zJZBC\n",
    "\n",
    "    print(\"Fetching comments...\")\n",
    "    comments = fetch_youtube_comments(video_id, api_key)\n",
    "\n",
    "    print(\"Preprocessing comments...\")\n",
    "    comments_cleaned = [preprocess_text(comment) for comment in comments]\n",
    "\n",
    "    print(\"Initializing sentiment analysis models...\")\n",
    "    huggingface_pipeline_model = pipeline(\"sentiment-analysis\")\n",
    "    \n",
    "    print(\"Analyzing sentiment with VADER...\")\n",
    "    vader_results = [analyze_vader_sentiment(comment) for comment in comments_cleaned]\n",
    "\n",
    "    print(\"Analyzing sentiment with Hugging Face...\")\n",
    "    huggingface_results = [\n",
    "        analyze_huggingface_sentiment_with_neutral(comment, huggingface_pipeline_model) for comment in comments_cleaned\n",
    "    ]\n",
    "\n",
    "    print(\"Saving results to CSV...\")\n",
    "    df = pd.DataFrame({\n",
    "        'Original Comment': comments,\n",
    "        'Cleaned Comment': comments_cleaned,\n",
    "        'VADER Sentiment': vader_results,\n",
    "        'Hugging Face Sentiment': huggingface_results\n",
    "    })\n",
    "    output_file = \"savukku.csv\"\n",
    "    df.to_csv(output_file, index=False)\n",
    "    print(f\"Analysis saved to {output_file}\")\n",
    "\n",
    "if __name__ == \"__main__\":\n",
    "    main()"
   ]
  },
  {
   "cell_type": "code",
   "execution_count": null,
   "id": "eaa512b3-9423-4658-98da-1757c247082b",
   "metadata": {},
   "outputs": [],
   "source": []
  },
  {
   "cell_type": "code",
   "execution_count": null,
   "id": "7b3bdb4c-f424-4085-aef4-cb621dde52ac",
   "metadata": {},
   "outputs": [],
   "source": []
  },
  {
   "cell_type": "code",
   "execution_count": null,
   "id": "36e8456d-a0ab-4381-93aa-cfa9f059fc37",
   "metadata": {},
   "outputs": [],
   "source": []
  },
  {
   "cell_type": "code",
   "execution_count": null,
   "id": "0032603d-9a57-4d67-968d-f30d0b20b560",
   "metadata": {},
   "outputs": [],
   "source": []
  },
  {
   "cell_type": "code",
   "execution_count": null,
   "id": "f787b237-7469-4274-a910-5a9e45c4ae6c",
   "metadata": {},
   "outputs": [],
   "source": []
  },
  {
   "cell_type": "code",
   "execution_count": null,
   "id": "31cfa127-b03d-45fb-9611-ad88a95f767d",
   "metadata": {},
   "outputs": [],
   "source": []
  },
  {
   "cell_type": "code",
   "execution_count": null,
   "id": "7e42c415-bc9f-49aa-b6af-df1915f19298",
   "metadata": {},
   "outputs": [],
   "source": []
  },
  {
   "cell_type": "code",
   "execution_count": 1,
   "id": "1778eb40-f7bb-416f-9cd9-c47bb502048a",
   "metadata": {},
   "outputs": [
    {
     "name": "stderr",
     "output_type": "stream",
     "text": [
      "C:\\Users\\PRIYA\\AppData\\Local\\Temp\\ipykernel_9436\\1376415561.py:18: FutureWarning: \n",
      "\n",
      "Passing `palette` without assigning `hue` is deprecated and will be removed in v0.14.0. Assign the `x` variable to `hue` and set `legend=False` for the same effect.\n",
      "\n",
      "  sns.barplot(x=vader_counts.index, y=vader_counts.values, ax=axes[0], palette=\"viridis\")\n",
      "C:\\Users\\PRIYA\\AppData\\Local\\Temp\\ipykernel_9436\\1376415561.py:24: FutureWarning: \n",
      "\n",
      "Passing `palette` without assigning `hue` is deprecated and will be removed in v0.14.0. Assign the `x` variable to `hue` and set `legend=False` for the same effect.\n",
      "\n",
      "  sns.barplot(x=huggingface_counts.index, y=huggingface_counts.values, ax=axes[1], palette=\"coolwarm\")\n"
     ]
    },
    {
     "data": {
      "image/png": "[encoded data removed]",
      "text/plain": [
       "<Figure size 1200x600 with 2 Axes>"
      ]
     },
     "metadata": {},
     "output_type": "display_data"
    }
   ],
   "source": [
    "import pandas as pd\n",
    "import matplotlib.pyplot as plt\n",
    "import seaborn as sns\n",
    "\n",
    "# Function to visualize sentiment analysis results\n",
    "def visualize_sentiment_results(csv_file):\n",
    "    # Load the CSV file\n",
    "    df = pd.read_csv(csv_file)\n",
    "    \n",
    "    # Count the sentiment categories\n",
    "    vader_counts = df['VADER Sentiment'].value_counts()\n",
    "    huggingface_counts = df['Hugging Face Sentiment'].value_counts()\n",
    "\n",
    "    # Create subplots for VADER and Hugging Face\n",
    "    fig, axes = plt.subplots(1, 2, figsize=(12, 6), sharey=True)\n",
    "    \n",
    "    # VADER Visualization\n",
    "    sns.barplot(x=vader_counts.index, y=vader_counts.values, ax=axes[0], palette=\"viridis\")\n",
    "    axes[0].set_title(\"VADER Sentiment Analysis\")\n",
    "    axes[0].set_xlabel(\"Sentiment\")\n",
    "    axes[0].set_ylabel(\"Count\")\n",
    "\n",
    "    # Hugging Face Visualization\n",
    "    sns.barplot(x=huggingface_counts.index, y=huggingface_counts.values, ax=axes[1], palette=\"coolwarm\")\n",
    "    axes[1].set_title(\"Hugging Face Sentiment Analysis\")\n",
    "    axes[1].set_xlabel(\"Sentiment\")\n",
    "\n",
    "    plt.tight_layout()\n",
    "    plt.show()\n",
    "\n",
    "# Main function for visualization\n",
    "if __name__ == \"__main__\":\n",
    "    # Specify the path to the CSV file\n",
    "    csv_file = \"vader&huggieee1.csv\"\n",
    "    visualize_sentiment_results(csv_file)\n"
   ]
  }
 ],
 "metadata": {
  "kernelspec": {
   "display_name": "Python 3 (ipykernel)",
   "language": "python",
   "name": "python3"
  },
  "language_info": {
   "codemirror_mode": {
    "name": "ipython",
    "version": 3
   },
   "file_extension": ".py",
   "mimetype": "text/x-python",
   "name": "python",
   "nbconvert_exporter": "python",
   "pygments_lexer": "ipython3",
   "version": "3.10.11"
  }
 },
 "nbformat": 4,
 "nbformat_minor": 5
}
